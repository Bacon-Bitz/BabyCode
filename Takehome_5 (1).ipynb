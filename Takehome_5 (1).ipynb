{
 "cells": [
  {
   "cell_type": "code",
   "execution_count": 3,
   "id": "7b5f4a58-7740-4a0a-afc1-d8884fd39ce5",
   "metadata": {},
   "outputs": [],
   "source": [
    "# # You must use at least two functions (one for testing whether a word is valid, and another one to convert a valid word to pig Latin) \n",
    "# in addition to the main function. Name the functions ‘isValidWord’ and ‘toPigLatin’, respectively.\n",
    "# The program should only convert valid words to pig Latin, where a valid word is defined as a sequence of only alphabetic characters. \n",
    "# All invalid words should be kept unchanged. When converting a valid word to pig Latin, use the following rules\n",
    "# (can also be found at: https://en.wikipedia.org/wiki/Pig_Latin):\n",
    "\n",
    "# # 1.\tIf the word starts with a vowel, add a ‘way’ at the end.\n",
    "# # Examples:    \tis -> isway\n",
    "# # \t        \tam -> amway\n",
    "# #              \tone -> oneway\n",
    "\n",
    "# # 2.\tIf the word starts with one or more consonants, move all the consonants appearing before the initial vowel to the end of the word, \n",
    "# and add an ‘ay’ at the end (if there is no vowel in the word, only add an ‘ay’ at the end).\n",
    "\n",
    "\n"
   ]
  },
  {
   "cell_type": "code",
   "execution_count": 4,
   "id": "d00e2589-0336-4c53-b31c-258eccc0ce5a",
   "metadata": {},
   "outputs": [
    {
     "ename": "SyntaxError",
     "evalue": "invalid syntax (<ipython-input-4-cf27505efc91>, line 51)",
     "output_type": "error",
     "traceback": [
      "\u001b[1;36m  File \u001b[1;32m\"<ipython-input-4-cf27505efc91>\"\u001b[1;36m, line \u001b[1;32m51\u001b[0m\n\u001b[1;33m    encoding_piglatin(file_name)\u001b[0m\n\u001b[1;37m    ^\u001b[0m\n\u001b[1;31mSyntaxError\u001b[0m\u001b[1;31m:\u001b[0m invalid syntax\n"
     ]
    }
   ],
   "source": [
    "#Creating is valid word function\n",
    "def isValidWord(word):\n",
    "    '''\n",
    "    purpose: Determine if word is valid\n",
    "    read the input\n",
    "    determine whether each character in word is digit or not\n",
    "    if has digit, then it's FALSE\n",
    "    No digit = TRUE\n",
    "    \n",
    "    '''\n",
    "    numbers = \"1234567890\"\n",
    "    \n",
    "    for c in word:\n",
    "        if c in numbers: \n",
    "            return False\n",
    "        \n",
    "    return True\n",
    "\n",
    "\n",
    "#creating function that converts to pig latin\n",
    "\n",
    "def toPigLatin(word):\n",
    "    '''\n",
    "    purpose: convert words to pig latin\n",
    "    '''   \n",
    "    vowels = \"aeiou\"\n",
    "    \n",
    "    if word[0] in vowels:\n",
    "        return word + \"ay\"\n",
    "\n",
    "    consonant_pos = 0\n",
    "    for c in word:\n",
    "        if c in vowels:\n",
    "            break\n",
    "        consonant_pos += 1\n",
    "\n",
    "    cons_prefix = word[:consonant_pos]\n",
    "\n",
    "    rest_of_word = word[consonant_pos:]\n",
    "\n",
    "    return rest_of_word + cons_prefix + \"ay\"\n",
    "\n",
    "#File Reader Function\n",
    "def encoding_piglatin (filename):\n",
    "      with open(filename, \"r\") as file:\n",
    "            for line in file:\n",
    "                print(line)\n",
    "       \n",
    "    \n",
    "file_name = str(input(\"Please enter the input file's name:\")                \n",
    "encoding_piglatin(file_name)\n"
   ]
  },
  {
   "cell_type": "code",
   "execution_count": null,
   "id": "ca9ad5cb-2616-4703-8402-c17d322ee2c3",
   "metadata": {},
   "outputs": [],
   "source": []
  },
  {
   "cell_type": "code",
   "execution_count": null,
   "id": "1e48bb27-7bb4-4d61-bcfa-8f22e59b61da",
   "metadata": {},
   "outputs": [],
   "source": []
  },
  {
   "cell_type": "code",
   "execution_count": 6,
   "id": "40f6e033-e56c-48de-ac03-a8229f073dd9",
   "metadata": {},
   "outputs": [
    {
     "ename": "NameError",
     "evalue": "name 'milk' is not defined",
     "output_type": "error",
     "traceback": [
      "\u001b[1;31m---------------------------------------------------------------------------\u001b[0m",
      "\u001b[1;31mNameError\u001b[0m                                 Traceback (most recent call last)",
      "\u001b[1;32m<ipython-input-6-ddb039e8c494>\u001b[0m in \u001b[0;36m<module>\u001b[1;34m\u001b[0m\n\u001b[1;32m----> 1\u001b[1;33m \u001b[0misValidWord\u001b[0m\u001b[1;33m(\u001b[0m\u001b[0mmilk\u001b[0m\u001b[1;33m)\u001b[0m\u001b[1;33m\u001b[0m\u001b[1;33m\u001b[0m\u001b[0m\n\u001b[0m",
      "\u001b[1;31mNameError\u001b[0m: name 'milk' is not defined"
     ]
    }
   ],
   "source": []
  }
 ],
 "metadata": {
  "kernelspec": {
   "display_name": "Python 3",
   "language": "python",
   "name": "python3"
  },
  "language_info": {
   "codemirror_mode": {
    "name": "ipython",
    "version": 3
   },
   "file_extension": ".py",
   "mimetype": "text/x-python",
   "name": "python",
   "nbconvert_exporter": "python",
   "pygments_lexer": "ipython3",
   "version": "3.8.8"
  }
 },
 "nbformat": 4,
 "nbformat_minor": 5
}
