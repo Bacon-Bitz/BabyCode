{
 "cells": [
  {
   "cell_type": "code",
   "execution_count": 3,
   "id": "7b5f4a58-7740-4a0a-afc1-d8884fd39ce5",
   "metadata": {},
   "outputs": [],
   "source": [
    "# # You must use at least two functions (one for testing whether a word is valid, and another one to convert a valid word to pig Latin) \n",
    "# in addition to the main function. Name the functions ‘isValidWord’ and ‘toPigLatin’, respectively.\n",
    "# The program should only convert valid words to pig Latin, where a valid word is defined as a sequence of only alphabetic characters. \n",
    "# All invalid words should be kept unchanged. When converting a valid word to pig Latin, use the following rules\n",
    "# (can also be found at: https://en.wikipedia.org/wiki/Pig_Latin):\n",
    "\n",
    "# # 1.\tIf the word starts with a vowel, add a ‘way’ at the end.\n",
    "# # Examples:    \tis -> isway\n",
    "# # \t        \tam -> amway\n",
    "# #              \tone -> oneway\n",
    "\n",
    "# # 2.\tIf the word starts with one or more consonants, move all the consonants appearing before the initial vowel to the end of the word, \n",
    "# and add an ‘ay’ at the end (if there is no vowel in the word, only add an ‘ay’ at the end).\n",
    "\n",
    "\n"
   ]
  },
  {
   "cell_type": "code",
   "execution_count": 5,
   "id": "d00e2589-0336-4c53-b31c-258eccc0ce5a",
   "metadata": {},
   "outputs": [],
   "source": [
    "#Creating is valid word function\n",
    "def isValidWord(text):\n",
    "    '''\n",
    "    purpose: Determine if word is valid\n",
    "    '''\n",
    "    numbers = [0,1,2,3,4,5,6,7,8,9]\n",
    "    \n",
    "    for c in text:\n",
    "        if c in numbers: \n",
    "            valid = FALSE\n",
    "        else:\n",
    "            valid = TRUE\n",
    "        return: valid\n",
    "            \n",
    "\n",
    "\n",
    "#creating function that converts to pig latin\n",
    "def toPigLatin():\n",
    "     '''\n",
    "    purpose: convert words to pig latin\n",
    "    '''\n",
    "    vowels = [a,e,i,o,u]\n",
    "    \n",
    "    sentence = input('Enter a Sentence: ').lower()\n",
    "    words = sentence.split()\n",
    "\n",
    "    for i, word in enumerate(words):\n",
    "    \n",
    "    '''\n",
    "    if first letter is a vowel\n",
    "    '''\n",
    "    if word[0] in 'aeiou':\n",
    "        words[i] = words[i]+ \"ay\"\n",
    "    else:\n",
    "        '''\n",
    "        else get vowel position and postfix all the consonants \n",
    "        present before that vowel to the end of the word along with \"ay\"\n",
    "        '''\n",
    "        has_vowel = False\n",
    "        \n",
    "        for j, letter in enumerate(word):\n",
    "            if letter in 'aeiou':\n",
    "                words[i] = word[j:] + word[:j] + \"ay\"\n",
    "                has_vowel = True\n",
    "                break\n",
    "\n",
    "        #if the word doesn't have any vowel then simply postfix \"ay\"\n",
    "        if(has_vowel == False):\n",
    "            words[i] = words[i]+ \"ay\"\n",
    "\n",
    "    \n",
    "#importing the file\n",
    "print(\"Welcome to the Pig Latin converter!! n/ ================================\")\n",
    "file_name = str(input(\"Please enter the input file's name:\")                \n",
    "            \n",
    "file_handler = open(file_name,\"r\")\n",
    "                \n",
    "for line in file_handler:\n",
    "                print(line,len(line))\n",
    "file_handler.close()"
   ]
  },
  {
   "cell_type": "code",
   "execution_count": 6,
   "id": "40f6e033-e56c-48de-ac03-a8229f073dd9",
   "metadata": {},
   "outputs": [
    {
     "ename": "NameError",
     "evalue": "name 'milk' is not defined",
     "output_type": "error",
     "traceback": [
      "\u001b[1;31m---------------------------------------------------------------------------\u001b[0m",
      "\u001b[1;31mNameError\u001b[0m                                 Traceback (most recent call last)",
      "\u001b[1;32m<ipython-input-6-ddb039e8c494>\u001b[0m in \u001b[0;36m<module>\u001b[1;34m\u001b[0m\n\u001b[1;32m----> 1\u001b[1;33m \u001b[0misValidWord\u001b[0m\u001b[1;33m(\u001b[0m\u001b[0mmilk\u001b[0m\u001b[1;33m)\u001b[0m\u001b[1;33m\u001b[0m\u001b[1;33m\u001b[0m\u001b[0m\n\u001b[0m",
      "\u001b[1;31mNameError\u001b[0m: name 'milk' is not defined"
     ]
    }
   ],
   "source": []
  }
 ],
 "metadata": {
  "kernelspec": {
   "display_name": "Python 3",
   "language": "python",
   "name": "python3"
  },
  "language_info": {
   "codemirror_mode": {
    "name": "ipython",
    "version": 3
   },
   "file_extension": ".py",
   "mimetype": "text/x-python",
   "name": "python",
   "nbconvert_exporter": "python",
   "pygments_lexer": "ipython3",
   "version": "3.8.8"
  }
 },
 "nbformat": 4,
 "nbformat_minor": 5
}
