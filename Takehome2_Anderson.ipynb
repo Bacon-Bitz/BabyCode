{
 "cells": [
  {
   "cell_type": "code",
   "execution_count": 1,
   "metadata": {},
   "outputs": [
    {
     "name": "stdout",
     "output_type": "stream",
     "text": [
      "\n"
     ]
    }
   ],
   "source": [
    "'''\n",
    "Purpose: Given the coordinates of the centers of two circles and their radii, ask the user to enter a \n",
    "2-D point P's coordinates (x,y), and find whether :\n",
    "a. P lies inside both circles\n",
    "b. P lies outside both circles\n",
    "c. P lies inside ONLY one circle\n",
    "'''\n",
    "\n",
    "# DO NOT CHANGE THE FOLLOWING CONTENT (UPTO THE HORIZONTAL LINE BELOW)\n",
    "# center and radius of circle 1: \n",
    "cx_1 = 6;\n",
    "cy_1 = -5;\n",
    "radius_1 = 3;\n",
    "\n",
    "# center and radius of circle 2:\n",
    "cx_2 = 12;\n",
    "cy_2 = -7;\n",
    "radius_2 = 5;\n",
    "\n",
    "print()\n",
    "\n",
    "\n",
    "# DO NOT CHANGE THE CONTENT ABOVE\n",
    "\n",
    "# write your design and code below this line:\n",
    "# -----------------------------------------------------------------------------\n",
    "#"
   ]
  },
  {
   "cell_type": "code",
   "execution_count": 2,
   "metadata": {},
   "outputs": [],
   "source": [
    "#Design\n",
    "# 1. input pint\n",
    "# 2. see if point is within the radius of either circle\n",
    "#     a. find distance between x & y coordinates\n",
    "#     b. check if distance is less than radius"
   ]
  },
  {
   "cell_type": "code",
   "execution_count": 3,
   "metadata": {},
   "outputs": [
    {
     "name": "stdin",
     "output_type": "stream",
     "text": [
      "Please enter x-coordinate of test point: 5\n",
      "Please enter y-coordinate of test point: -4\n"
     ]
    },
    {
     "name": "stdout",
     "output_type": "stream",
     "text": [
      "Point lies within ONLY ONE of the circles\n"
     ]
    }
   ],
   "source": [
    "\n",
    "import math\n",
    "\n",
    "x = int(input(\"Please enter x-coordinate of test point:\"))\n",
    "y = int(input(\"Please enter y-coordinate of test point:\"))\n",
    "\n",
    "# center and radius of circle 1: \n",
    "cx_1 = 6; ##why are there the semi colons here\n",
    "cy_1 = -5;\n",
    "radius_1 = 3;\n",
    "\n",
    "# center and radius of circle 2:\n",
    "cx_2 = 12;\n",
    "cy_2 = -7;\n",
    "radius_2 = 5\n",
    "\n",
    "diff_c1 = math.sqrt((cx_1 - x)**2 + (cy_1 - y)**2)\n",
    "diff_c2 = math.sqrt((cx_2 - x)**2 + (cy_2 - y)**2)\n",
    "\n",
    "\n",
    "\n",
    "\n",
    "if diff_c1 <= radius_1 and diff_c2 <= radius_2:\n",
    "    print(\"Point lies within both circles\")\n",
    "elif diff_c1 <= radius_1 or diff_c2 <= radius_2:\n",
    "    print(\"Point lies within ONLY ONE of the circles\")\n",
    "else: \n",
    "    print(\"Point lies outside both circles\")\n",
    "\n"
   ]
  }
 ],
 "metadata": {
  "kernelspec": {
   "display_name": "Python 3",
   "language": "python",
   "name": "python3"
  },
  "language_info": {
   "codemirror_mode": {
    "name": "ipython",
    "version": 3
   },
   "file_extension": ".py",
   "mimetype": "text/x-python",
   "name": "python",
   "nbconvert_exporter": "python",
   "pygments_lexer": "ipython3",
   "version": "3.8.8"
  }
 },
 "nbformat": 4,
 "nbformat_minor": 4
}
